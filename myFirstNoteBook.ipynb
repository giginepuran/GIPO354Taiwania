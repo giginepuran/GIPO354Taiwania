{
 "cells": [
  {
   "cell_type": "markdown",
   "id": "f70a71a2-d03e-4ade-a081-4a3a5d83d211",
   "metadata": {
    "tags": []
   },
   "source": [
    "## Step1"
   ]
  },
  {
   "cell_type": "code",
   "execution_count": 1,
   "id": "251f7344-05b0-4ec1-a0ac-ce9b2d859a0a",
   "metadata": {
    "tags": []
   },
   "outputs": [
    {
     "name": "stdout",
     "output_type": "stream",
     "text": [
      "Hello World.\n"
     ]
    }
   ],
   "source": [
    "print('Hello World.')"
   ]
  },
  {
   "cell_type": "markdown",
   "id": "e31aaca4-6810-4915-8d28-86938c206935",
   "metadata": {
    "tags": []
   },
   "source": [
    "## Step2"
   ]
  },
  {
   "cell_type": "code",
   "execution_count": 2,
   "id": "d1b5e75b-8b91-49a1-8846-927ef0948a67",
   "metadata": {
    "tags": []
   },
   "outputs": [
    {
     "name": "stdout",
     "output_type": "stream",
     "text": [
      "Set Complete\n"
     ]
    }
   ],
   "source": [
    "import pandas as pd\n",
    "print('Set Complete')"
   ]
  },
  {
   "cell_type": "code",
   "execution_count": null,
   "id": "4c02a3fa-f381-4706-93e2-da7065f18611",
   "metadata": {},
   "outputs": [],
   "source": []
  }
 ],
 "metadata": {
  "kernelspec": {
   "display_name": "Python 3 (ipykernel)",
   "language": "python",
   "name": "python3"
  },
  "language_info": {
   "codemirror_mode": {
    "name": "ipython",
    "version": 3
   },
   "file_extension": ".py",
   "mimetype": "text/x-python",
   "name": "python",
   "nbconvert_exporter": "python",
   "pygments_lexer": "ipython3",
   "version": "3.8.8"
  }
 },
 "nbformat": 4,
 "nbformat_minor": 5
}
